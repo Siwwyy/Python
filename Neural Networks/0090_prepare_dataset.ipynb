{
 "cells": [
  {
   "cell_type": "code",
   "execution_count": null,
   "id": "terminal-evaluation",
   "metadata": {},
   "outputs": [],
   "source": [
    "#default_exp prepare_dataset"
   ]
  },
  {
   "cell_type": "code",
   "execution_count": null,
   "id": "located-westminster",
   "metadata": {},
   "outputs": [],
   "source": [
    "%load_ext autoreload\n",
    "%autoreload 2"
   ]
  },
  {
   "cell_type": "code",
   "execution_count": null,
   "id": "hairy-credits",
   "metadata": {},
   "outputs": [],
   "source": [
    "# export\n",
    "from IPython.display import display,HTML\n",
    "from typing import Any, Callable, Optional, List, Dict, Iterator, Set, Tuple\n",
    "import shutil"
   ]
  },
  {
   "cell_type": "code",
   "execution_count": null,
   "id": "miniature-enlargement",
   "metadata": {},
   "outputs": [],
   "source": [
    "# export\n",
    "from fastai.vision.all import *\n",
    "import PIL\n",
    "import torch\n",
    "import numpy as np\n",
    "import Imath, OpenEXR"
   ]
  },
  {
   "cell_type": "code",
   "execution_count": null,
   "id": "acquired-ethernet",
   "metadata": {},
   "outputs": [],
   "source": [
    "# export\n",
    "from fastprogress.fastprogress import master_bar, progress_bar\n",
    "\n",
    "from upscalers_pytorch.config import data_folder, DatasetSpec\n",
    "from upscalers_pytorch.image import load_exr, save_exr, show_img\n",
    "from upscalers_pytorch.utils import *"
   ]
  },
  {
   "cell_type": "markdown",
   "id": "manufactured-arrow",
   "metadata": {},
   "source": [
    "# Overview"
   ]
  },
  {
   "cell_type": "markdown",
   "id": "governmental-mouth",
   "metadata": {},
   "source": [
    "> `prepare_dataset`: functions to show, read, write, decimate in common formats, e.g. PNG and EXR."
   ]
  },
  {
   "cell_type": "markdown",
   "id": "ready-peninsula",
   "metadata": {},
   "source": [
    "# Initialize saving folder"
   ]
  },
  {
   "cell_type": "code",
   "execution_count": null,
   "id": "wrapped-alarm",
   "metadata": {},
   "outputs": [],
   "source": [
    "test_folder = TestFolder(\"prepare_dataset\")"
   ]
  },
  {
   "cell_type": "markdown",
   "id": "answering-spectacular",
   "metadata": {},
   "source": [
    "# Data manipulation"
   ]
  },
  {
   "cell_type": "markdown",
   "id": "pressing-semiconductor",
   "metadata": {},
   "source": [
    "## `save_downscaled_exr_decimate`"
   ]
  },
  {
   "cell_type": "code",
   "execution_count": null,
   "id": "sustainable-ministry",
   "metadata": {},
   "outputs": [],
   "source": [
    "# export\n",
    "#this functions is similar to save_downscaled_exr in 0030_image (move it to another notebook)\n",
    "import cv2\n",
    "def save_downscaled_exr_decimate(in_path:Path, out_path:Path, width:int, height:int, frame_index:int, show=False):\n",
    "    \"\"\"Save a downscaled copy of the EXR image from `in_path`. Save the `width`x`height` result in `out_path`.\n",
    "    \n",
    "        Assumptions:\n",
    "            - Input, output are 16-bit EXR\n",
    "            - Width/height aspect ratio is preserved    \"\"\"\n",
    "    \n",
    "    img_hr = load_exr(str(in_path))\n",
    "    KernelSize = (img_hr.shape[2]//width, img_hr.shape[1]//height)\n",
    "    img_lr = image_decimate(img_hr, KernelSize, frame_index) # low-res image\n",
    "    save_exr(img_lr, str(out_path))\n",
    "    \n",
    "    if show: show_img(img_lr, figsize=(15,8))"
   ]
  },
  {
   "cell_type": "markdown",
   "id": "hidden-kingdom",
   "metadata": {},
   "source": [
    "# Data Decimation Routines"
   ]
  },
  {
   "cell_type": "markdown",
   "id": "exact-merchandise",
   "metadata": {},
   "source": [
    "## pixel_to_img_coords_with_shape"
   ]
  },
  {
   "cell_type": "code",
   "execution_count": null,
   "id": "norman-cross",
   "metadata": {},
   "outputs": [],
   "source": [
    "# export\n",
    "#this functions is similar to pixel_to_img_coords in 0180_TAA (move it to another notebook)\n",
    "def pixel_to_img_coords_with_shape(xy_coords, img_width:int, img_height:int, xy_offset=None):\n",
    "    \"\"\"Convert xy coordinates expressed in pixels (e.g. from motion vectors) into a range of [-1,1].\n",
    "    \n",
    "        Args:\n",
    "            xy_coords: (N,H,W,2) where the last axis is an absolute (x,y) coordinate expressed in pixels.\n",
    "            img_width: image width\n",
    "            img_height: image height\n",
    "        \n",
    "        Return:\n",
    "            xy_coords: (N,H,W,2) where the last axis should range between [-1,1], except if the coordinates were out-of-image.\"\"\"\n",
    "    if xy_offset is None:\n",
    "        xy_offset = tensor([0.0, 0.0])\n",
    "    \n",
    "    # TODO: think whether this should be detached...? do we need to propagate gradients?\n",
    "    xy_coords = xy_coords.clone().detach()\n",
    "    \n",
    "    xy_coords[..., 0:1] = (xy_coords[..., 0:1] + xy_offset[0]) / (img_width-1) * 2 - 1.0 # x coordinates\n",
    "    xy_coords[..., 1:2] = (xy_coords[..., 1:2] + xy_offset[1]) / (img_height-1) * 2 - 1.0 # y coordinates\n",
    "    return xy_coords"
   ]
  },
  {
   "cell_type": "markdown",
   "id": "protecting-reconstruction",
   "metadata": {},
   "source": [
    "## get_grid"
   ]
  },
  {
   "cell_type": "code",
   "execution_count": null,
   "id": "prerequisite-concert",
   "metadata": {},
   "outputs": [],
   "source": [
    "# export\n",
    "def get_grid(shapeHr, KernelSize, anchor):\n",
    "    \"\"\"Creates a grid for xy coordinates of pixels into range of [-1,1]\n",
    "    \n",
    "        Args:\n",
    "            shapeHr: shape of given image (High resolution image)\n",
    "            KernelSize: size of kernel in (x,y) coordinates manner\n",
    "            anchor: position of pixel around of center of the kernel size\n",
    "            \n",
    "        Return:\n",
    "            xy_coords: (N,H,W,2) where the last axis should range between [-1,1], except if the coordinates were out-of-image.\n",
    "    \"\"\"\n",
    "    x = torch.arange(start = 0, end = shapeHr[-1], dtype = torch.float32)\n",
    "    y = torch.arange(start = 0, end = shapeHr[-2], dtype = torch.float32)\n",
    "    #create xy offsets\n",
    "    x_offset = x[KernelSize[0] // 2 - 1 + anchor[0]::KernelSize[0]]\n",
    "    y_offset = y[KernelSize[1] // 2 - 1 + anchor[1]::KernelSize[1]]\n",
    "    #mesh grid for pixel indexes of x and y coordinates\n",
    "    meshy, meshx = torch.meshgrid((y_offset, x_offset))\n",
    "    #created mesh\n",
    "    stacked_mesh = torch.stack([meshx, meshy], axis=-1).unsqueeze(0)\n",
    "    \n",
    "    #coordinates grid\n",
    "    return pixel_to_img_coords_with_shape(stacked_mesh, shapeHr[-1], shapeHr[-2])"
   ]
  },
  {
   "cell_type": "markdown",
   "id": "martial-sampling",
   "metadata": {},
   "source": [
    "## halton"
   ]
  },
  {
   "cell_type": "code",
   "execution_count": null,
   "id": "colored-judgment",
   "metadata": {},
   "outputs": [],
   "source": [
    "# export\n",
    "def halton(index, base):\n",
    "    \"\"\"Creates a halton index value\n",
    "    \n",
    "        Args:\n",
    "            index: number/index of sequence\n",
    "            base: base of given sequence\n",
    "            \n",
    "        Return:\n",
    "            result: value of given sequence\n",
    "    \"\"\"\n",
    "    f = 1.0\n",
    "    result = 0.0\n",
    "    i = index\n",
    "    while i > 0:\n",
    "        f /= base\n",
    "        result += f * (i % base)\n",
    "        i = i // base\n",
    "        \n",
    "\n",
    "\n",
    "\n",
    "\n",
    "        \n",
    "    return result "
   ]
  },
  {
   "cell_type": "markdown",
   "id": "sublime-infrastructure",
   "metadata": {},
   "source": [
    "## halton_sequence"
   ]
  },
  {
   "cell_type": "code",
   "execution_count": null,
   "id": "collected-atlanta",
   "metadata": {},
   "outputs": [],
   "source": [
    "#export\n",
    "def halton_sequence(frame_index, KernelSize):\n",
    "    \"\"\"Creates a halton sequence\n",
    "    \n",
    "        Args:\n",
    "            frame_index: index of frame in given video\n",
    "            KernelSize: size of kernel in (x,y) coordinates manner\n",
    "            \n",
    "        Return:\n",
    "            (x,y): returns a value of pixel coordinate\n",
    "    \"\"\"\n",
    "    jitter_index = 1 + (frame_index & 0xf)\n",
    "\n",
    "    jitter_x = (2 * halton(jitter_index, 2)) - 1\n",
    "    jitter_y = (2 * halton(jitter_index, 3)) - 1\n",
    "\n",
    "    x = int(KernelSize[0] // 2 * jitter_x + 0.5)\n",
    "    y = int(KernelSize[1] // 2 * jitter_y + 0.5)\n",
    "    \n",
    "    return (x,y)"
   ]
  },
  {
   "cell_type": "code",
   "execution_count": null,
   "id": "trying-martin",
   "metadata": {},
   "outputs": [],
   "source": [
    "# halton sequence algorithm for testing (found at the internet)\n",
    "from math import log, floor, ceil, fmod\n",
    "\n",
    "def halton_other(dim, nbpts):\n",
    "    h = np.empty(nbpts * dim)\n",
    "    h.fill(np.nan)\n",
    "    p = np.empty(nbpts)\n",
    "    p.fill(np.nan)\n",
    "    P = [2, 3, 5, 7, 11, 13, 17, 19, 23, 29, 31]\n",
    "    lognbpts = log(nbpts + 1)\n",
    "    for i in range(dim):\n",
    "        b = P[i]\n",
    "        n = int(ceil(lognbpts / log(b)))\n",
    "        for t in range(n):\n",
    "            p[t] = pow(b, -(t + 1) )\n",
    "\n",
    "        for j in range(nbpts):\n",
    "            d = j + 1\n",
    "            sum_ = fmod(d, b) * p[0]\n",
    "            for t in range(1, n):\n",
    "                d = floor(d / b)\n",
    "                sum_ += fmod(d, b) * p[t]\n",
    "\n",
    "            h[j*dim + i] = sum_\n",
    "\n",
    "    return h.reshape(nbpts, dim)"
   ]
  },
  {
   "cell_type": "code",
   "execution_count": null,
   "id": "backed-township",
   "metadata": {},
   "outputs": [],
   "source": [
    "# just for testing\n",
    "def get_halton_sequence(length:int, KernelSize):\n",
    "    \"\"\"\n",
    "        Functions generates a np.zeros of halton's sequence\n",
    "    \"\"\"\n",
    "    sequence = np.zeros((length,2))\n",
    "\n",
    "    for i in range(length):\n",
    "        sequence[i] = halton_sequence(i, KernelSize)\n",
    "    return sequence"
   ]
  },
  {
   "cell_type": "code",
   "execution_count": null,
   "id": "spoken-arthritis",
   "metadata": {},
   "outputs": [],
   "source": [
    "# TODO: scatter plot (ideally with numbers)\n",
    "# Test for 8,8 grid with length of 8 halton sequence\n",
    "length = 16\n",
    "KernelSize = (8,8)\n",
    "\n",
    "t_sequence = get_halton_sequence(length, KernelSize)\n",
    "t_other_sequence = halton_other(2, length)\n",
    "# print(sequence)\n",
    "# print(other_sequence)\n"
   ]
  },
  {
   "cell_type": "code",
   "execution_count": null,
   "id": "previous-survival",
   "metadata": {},
   "outputs": [],
   "source": [
    "fig = plt.figure(figsize=(15,15))\n",
    "plt.plot(t_sequence[:length, 0], t_sequence[:length, 1], 'o', color='red', label='Position of sequence point')\n",
    "plt.title(\"uniform-distribution halton ({0})\".format(length))\n",
    "plt.legend()\n",
    "for counter, (x, y) in enumerate(zip(t_sequence[:,0], t_sequence[:, 1])):\n",
    "    plt.text(x, y, str(counter + 1), color=\"black\", fontsize=12)"
   ]
  },
  {
   "cell_type": "code",
   "execution_count": null,
   "id": "induced-horizontal",
   "metadata": {},
   "outputs": [],
   "source": [
    "plt.clf()"
   ]
  },
  {
   "cell_type": "code",
   "execution_count": null,
   "id": "frank-wildlife",
   "metadata": {},
   "outputs": [],
   "source": [
    "fig = plt.figure(figsize=(15,15))\n",
    "plt.plot(t_other_sequence[:length, 0], t_other_sequence[:length, 1], 'x', color='green', label='Position of sequence point')\n",
    "plt.title(\"uniform-distribution other halton ({0})\".format(length))\n",
    "plt.legend()\n",
    "for counter, (x, y) in enumerate(zip(t_other_sequence[:,0], t_other_sequence[:, 1])):\n",
    "    plt.text(x, y, str(counter + 1), color=\"black\", fontsize=12)"
   ]
  },
  {
   "cell_type": "code",
   "execution_count": null,
   "id": "invalid-answer",
   "metadata": {},
   "outputs": [],
   "source": [
    "plt.clf()"
   ]
  },
  {
   "cell_type": "code",
   "execution_count": null,
   "id": "chronic-marathon",
   "metadata": {},
   "outputs": [],
   "source": [
    "#Tile checking\n",
    "\n",
    "length = 16\n",
    "KernelSize = (8,8)\n",
    "\n",
    "t_sequence = get_halton_sequence(length, KernelSize)\n",
    "#t_sequence = halton_other(2,length)\n",
    "# t_sequence"
   ]
  },
  {
   "cell_type": "code",
   "execution_count": null,
   "id": "wireless-optics",
   "metadata": {},
   "outputs": [],
   "source": [
    "#for testing\n",
    "def get_cmap(n, name='hsv'):\n",
    "    '''Returns a function that maps each index in 0, 1, ..., n-1 to a distinct \n",
    "    RGB color; the keyword argument name must be a standard mpl colormap name.'''\n",
    "    return plt.cm.get_cmap(name, n)"
   ]
  },
  {
   "cell_type": "code",
   "execution_count": null,
   "id": "illegal-stocks",
   "metadata": {},
   "outputs": [],
   "source": [
    "points_amount = 8 #how many points should be plotted out\n",
    "cmap = get_cmap(points_amount + 1)"
   ]
  },
  {
   "cell_type": "code",
   "execution_count": null,
   "id": "advanced-terminology",
   "metadata": {},
   "outputs": [],
   "source": [
    "# For 8 points\n",
    "fig, axes = plt.subplots(nrows=2, ncols=2, figsize=(20,20))\n",
    "ax = axes.ravel()\n",
    "\n",
    "plt.subplots_adjust(left=2, bottom=2, right=2.5, top=2.5, wspace=0.001, hspace=0.001) #layout of plot's grid\n",
    "\n",
    "\n",
    "for i in range(0, ax.shape[0]):\n",
    "    for j in range(0, points_amount):\n",
    "        ax[i].plot(t_sequence[j, 0], t_sequence[j, 1], 'o', color=cmap(j))\n",
    "        \n",
    "    ax[i].grid()\n",
    "    \n",
    "    for counter, (x, y) in enumerate(zip(t_sequence[:points_amount,0], t_sequence[:points_amount, 1])):\n",
    "        ax[i].text(x + 0.15, y, str(counter + 1), color=\"black\", fontsize=12)\n",
    "\n",
    "    ax[i].set_xlim([-4, 5])\n",
    "    ax[i].set_ylim([-4, 5])\n",
    "    \n",
    "    ax[i].set_xticks(np.arange(-4, 5, 1))\n",
    "    ax[i].set_yticks(np.arange(-4, 5, 1))\n",
    "    ax[i].set_xticklabels([])\n",
    "    ax[i].set_yticklabels([])"
   ]
  },
  {
   "cell_type": "code",
   "execution_count": null,
   "id": "prepared-martin",
   "metadata": {},
   "outputs": [],
   "source": [
    "print(t_sequence[:length, 0]) #x\n",
    "print(t_sequence[:length, 1]) #y\n",
    "plt.clf()"
   ]
  },
  {
   "cell_type": "code",
   "execution_count": null,
   "id": "willing-graph",
   "metadata": {},
   "outputs": [],
   "source": [
    "points_amount = 16"
   ]
  },
  {
   "cell_type": "code",
   "execution_count": null,
   "id": "meaningful-elizabeth",
   "metadata": {},
   "outputs": [],
   "source": [
    "#for 16 points\n",
    "\n",
    "fig, axes = plt.subplots(nrows=2, ncols=2, figsize=(20,20))\n",
    "ax = axes.ravel()\n",
    "\n",
    "plt.subplots_adjust(left=2, bottom=2, right=2.5, top=2.5, wspace=0.001, hspace=0.001) #layout of plot's grid\n",
    "\n",
    "\n",
    "for i in range(0, ax.shape[0]):\n",
    "    for j in range(0, points_amount):\n",
    "        ax[i].plot(t_sequence[j, 0], t_sequence[j, 1], 'o', color=cmap(j))\n",
    "        \n",
    "    ax[i].grid()\n",
    "    \n",
    "    for counter, (x, y) in enumerate(zip(t_sequence[:points_amount,0], t_sequence[:points_amount, 1])):\n",
    "        ax[i].text(x + 0.15, y, str(counter + 1), color=\"black\", fontsize=12)\n",
    "\n",
    "    ax[i].set_xlim([-4, 5])\n",
    "    ax[i].set_ylim([-4, 5])\n",
    "    \n",
    "    ax[i].set_xticks(np.arange(-4, 5, 1))\n",
    "    ax[i].set_yticks(np.arange(-4, 5, 1))\n",
    "    ax[i].set_xticklabels([])\n",
    "    ax[i].set_yticklabels([])"
   ]
  },
  {
   "cell_type": "code",
   "execution_count": null,
   "id": "present-premium",
   "metadata": {},
   "outputs": [],
   "source": [
    "print(t_sequence[:length, 0]) #x\n",
    "print(t_sequence[:length, 1]) #y\n",
    "plt.clf()"
   ]
  },
  {
   "cell_type": "markdown",
   "id": "frank-plumbing",
   "metadata": {},
   "source": [
    "## data_decimate"
   ]
  },
  {
   "cell_type": "code",
   "execution_count": null,
   "id": "imported-shaft",
   "metadata": {},
   "outputs": [],
   "source": [
    "# export\n",
    "def data_decimate(tensorHr, KernelSize, anchor):\n",
    "    \"\"\"Decimates a given image\n",
    "    \n",
    "        Args:\n",
    "            tensorHr: high resolution torch tensor (HR image)\n",
    "            KernelSize: size of kernel in (x,y) coordinates manner\n",
    "            anchor: position of pixel around of center of the kernel size\n",
    "            \n",
    "        Return:\n",
    "            TensorImage: decimated tensor\n",
    "    \"\"\"\n",
    "    n = tensorHr.shape[0]\n",
    "    w = tensorHr.shape[2] // KernelSize[0]\n",
    "    h = tensorHr.shape[1] // KernelSize[1]\n",
    "    grid = get_grid(tensorHr.shape, KernelSize, anchor)\n",
    "    tensor = F.grid_sample(tensorHr.unsqueeze(0).float(), grid, mode='nearest') \n",
    "    \n",
    "    return TensorImage(tensor.squeeze(0))"
   ]
  },
  {
   "cell_type": "markdown",
   "id": "electoral-aurora",
   "metadata": {},
   "source": [
    "## image_decimate"
   ]
  },
  {
   "cell_type": "code",
   "execution_count": null,
   "id": "criminal-powder",
   "metadata": {},
   "outputs": [],
   "source": [
    "# export\n",
    "def image_decimate(tensorHr, KernelSize, frame_index):   \n",
    "    \"\"\"Decimates an image at +given video frame\n",
    "    \n",
    "        Args:\n",
    "            tensorHr: high resolution torch tensor (HR image)\n",
    "            KernelSize: size of kernel in (x,y) coordinates manner\n",
    "            frame_index: frame index in given video\n",
    "            \n",
    "        Return:\n",
    "             data_decimate: decimated photo from HR to LR\n",
    "    \"\"\"\n",
    "    anchor = halton_sequence(frame_index, KernelSize)\n",
    "    \n",
    "    return data_decimate(tensorHr, KernelSize, anchor)\n"
   ]
  },
  {
   "cell_type": "code",
   "execution_count": null,
   "id": "incorporate-israel",
   "metadata": {},
   "outputs": [],
   "source": [
    "# just for testing\n",
    "def data_decimate_xyloop(tensorHr, KernelSize, anchor):\n",
    "    n = tensorHr.shape[0]\n",
    "    w = tensorHr.shape[2] // KernelSize[0]\n",
    "    h = tensorHr.shape[1] // KernelSize[1]\n",
    "    offset_x = anchor[0] + (KernelSize[0] // 2) - 1\n",
    "    offset_y = anchor[1] + (KernelSize[1] // 2) - 1\n",
    "    \n",
    "    tensor = torch.zeros((n, h, w), dtype=torch.float32)\n",
    "                            \n",
    "    for y in range(0, h):\n",
    "        for x in range(0, w):\n",
    "            tensor[:,y,x] = tensorHr[:,y*KernelSize[1]+offset_y,x*KernelSize[0]+offset_x]\n",
    "   \n",
    "    return TensorImage(tensor) \n"
   ]
  },
  {
   "cell_type": "code",
   "execution_count": null,
   "id": "impressed-diameter",
   "metadata": {},
   "outputs": [],
   "source": [
    "exr_path = test_folder.get_path(\"Infiltrator_F88_4K.exr\", False)(data_decimate_xyloop)\n",
    "assert(exr_path.exists())"
   ]
  },
  {
   "cell_type": "code",
   "execution_count": null,
   "id": "interested-vessel",
   "metadata": {},
   "outputs": [],
   "source": [
    "exr = OpenEXR.InputFile(str(exr_path))\n",
    "hr = load_exr(exr_path)\n",
    "KernelSize = (8,8)\n",
    "#anchor = (1,-3) # valid for 88th frame\n",
    "anchor = (1,1)"
   ]
  },
  {
   "cell_type": "code",
   "execution_count": null,
   "id": "special-sally",
   "metadata": {},
   "outputs": [],
   "source": [
    "lr = data_decimate(hr, KernelSize, anchor) #decimation uses grid sample from pytorch\n",
    "lr_xyloop = data_decimate_xyloop(hr, KernelSize, anchor) #naive method"
   ]
  },
  {
   "cell_type": "code",
   "execution_count": null,
   "id": "verbal-egypt",
   "metadata": {},
   "outputs": [],
   "source": [
    "diff = lr - lr_xyloop\n",
    "\n",
    "hlr2 = image_decimate(hr, KernelSize, 88) #88 frame index\n",
    "\n",
    "diff2 = hlr2 - lr"
   ]
  },
  {
   "cell_type": "code",
   "execution_count": null,
   "id": "technological-venezuela",
   "metadata": {},
   "outputs": [],
   "source": [
    "show_img(lr, figsize=(15,8), title='Downsampled image')"
   ]
  },
  {
   "cell_type": "code",
   "execution_count": null,
   "id": "judicial-boards",
   "metadata": {},
   "outputs": [],
   "source": [
    "show_img(diff, figsize=(15,8), title=\"difference between grid_sample and xy loop\")"
   ]
  },
  {
   "cell_type": "code",
   "execution_count": null,
   "id": "quality-variation",
   "metadata": {},
   "outputs": [],
   "source": [
    "show_img(diff2, figsize=(15,8), title='Jitter difference between Frames 0 and 88')"
   ]
  },
  {
   "cell_type": "code",
   "execution_count": null,
   "id": "affiliated-carnival",
   "metadata": {},
   "outputs": [],
   "source": [
    "# save_exr(hr,\"../test/image/save_exr/hr.exr\")\n",
    "# save_exr(lr,\"../test/image/save_exr/lr.exr\")\n",
    "# save_exr(diff,\"../test/image/save_exr/diff.exr\")\n",
    "# save_exr(diff2,\"../test/image/save_exr/diff2.exr\")"
   ]
  },
  {
   "cell_type": "markdown",
   "id": "british-leather",
   "metadata": {},
   "source": [
    "## get_frame_index_from_name"
   ]
  },
  {
   "cell_type": "code",
   "execution_count": null,
   "id": "extra-generator",
   "metadata": {},
   "outputs": [],
   "source": [
    "#export\n",
    "def get_frame_index_from_name(in_file):\n",
    "    res = [int(s) for s in re.findall('\\\\d+', in_file)]\n",
    "    return int(res[0])"
   ]
  },
  {
   "cell_type": "markdown",
   "id": "electronic-force",
   "metadata": {},
   "source": [
    "# Data Manipulation"
   ]
  },
  {
   "cell_type": "markdown",
   "id": "filled-means",
   "metadata": {},
   "source": [
    "## `save_downscaled_exr_decimate`"
   ]
  },
  {
   "cell_type": "code",
   "execution_count": null,
   "id": "abroad-donor",
   "metadata": {},
   "outputs": [],
   "source": [
    "# export\n",
    "#this functions is similar to save_downscaled_exr in 0030_image (move it to another notebook)\n",
    "import cv2\n",
    "def save_downscaled_exr_decimate(in_path:Path, out_path:Path, width:int, height:int, frame_index:int, show=False):\n",
    "    \"\"\"Save a downscaled copy of the EXR image from `in_path`. Save the `width`x`height` result in `out_path`.\n",
    "    \n",
    "        Assumptions:\n",
    "            - Input, output are 16-bit EXR\n",
    "            - Width/height aspect ratio is preserved    \"\"\"\n",
    "    \n",
    "    img_hr = load_exr(str(in_path))\n",
    "    KernelSize = (img_hr.shape[2]//width, img_hr.shape[1]//height)\n",
    "    img_lr = image_decimate(img_hr, KernelSize, frame_index) # low-res image\n",
    "    save_exr(img_lr, str(out_path))\n",
    "    \n",
    "    if show: show_img(img_lr, figsize=(15,8))"
   ]
  },
  {
   "cell_type": "code",
   "execution_count": null,
   "id": "radical-drunk",
   "metadata": {},
   "outputs": [],
   "source": [
    "t_in_path = test_folder.get_path(\"Infiltrator_F88_4K.exr\", False)(get_frame_index_from_name)\n",
    "assert t_in_path.exists()\n",
    "t_out_path = test_folder.get_path(\"Infiltrator_F88_540p.exr\", False)(get_frame_index_from_name)\n",
    "frame_index = get_frame_index_from_name(str(t_in_path.name))\n",
    "frame_index"
   ]
  },
  {
   "cell_type": "code",
   "execution_count": null,
   "id": "skilled-quarter",
   "metadata": {},
   "outputs": [],
   "source": [
    "save_downscaled_exr_decimate(t_in_path, t_out_path, 960, 540, frame_index, show=True)"
   ]
  },
  {
   "cell_type": "markdown",
   "id": "atomic-shape",
   "metadata": {},
   "source": [
    "## `downscale_exr_folder`"
   ]
  },
  {
   "cell_type": "code",
   "execution_count": null,
   "id": "second-concentrate",
   "metadata": {},
   "outputs": [],
   "source": [
    "# export\n",
    "#this functions is similar to downscale_exr_folder in 0030_image (move it to another notebook)\n",
    "def downscale_exr_folder_decimate(in_folder:Path, out_folder:Path, width:int, height:int, show=False, jitter=False):\n",
    "    \"\"\"Save a downscaled copy of every .exr image in `in_folder`, into `out_path`, with same filenames.\n",
    "    \n",
    "        Assumptions: same as `save_downscaled_exr_decimate`\"\"\"\n",
    "    files = list(in_folder.glob(\"*.exr\"))\n",
    "    for i in progress_bar(range(len(files))):\n",
    "        in_file = files[i]\n",
    "        if jitter:\n",
    "            frame_idx = get_frame_index_from_name(str(in_file.name))\n",
    "            save_downscaled_exr_decimate(in_file, out_folder/in_file.name, width, height, frame_index, show=show)\n",
    "        else:\n",
    "            save_downscaled_exr_decimate(in_file, out_folder/in_file.name, width, height, 0, show=show)\n",
    "        "
   ]
  },
  {
   "cell_type": "code",
   "execution_count": null,
   "id": "forty-macintosh",
   "metadata": {},
   "outputs": [],
   "source": [
    "t_in_folder = test_folder.get_path(\"\", False)(downscale_exr_folder_decimate)"
   ]
  },
  {
   "cell_type": "code",
   "execution_count": null,
   "id": "cubic-statement",
   "metadata": {},
   "outputs": [],
   "source": [
    "t_in_exr_paths = list(t_in_folder.glob(\"*.exr\"))\n",
    "t_in_exr_paths"
   ]
  },
  {
   "cell_type": "code",
   "execution_count": null,
   "id": "foster-equipment",
   "metadata": {},
   "outputs": [],
   "source": [
    "t_out_folder =  test_folder.get_path(\"resized/\", False)(downscale_exr_folder_decimate)\n",
    "t_out_folder.mkdir(exist_ok=True)"
   ]
  },
  {
   "cell_type": "code",
   "execution_count": null,
   "id": "cordless-browser",
   "metadata": {},
   "outputs": [],
   "source": [
    "#downscale_exr_folder_decimate(t_in_folder, t_out_folder, 960, 540, show=True)\n",
    "downscale_exr_folder_decimate(t_in_folder, t_out_folder, 960, 540, show=True, jitter=True)"
   ]
  },
  {
   "cell_type": "code",
   "execution_count": null,
   "id": "intense-obligation",
   "metadata": {},
   "outputs": [],
   "source": [
    "#Image decimation tests\n",
    "downscale_factor = 8 #the image will be downscaled 8 times (width/8, height/8)\n",
    "downscaled_width = (3840 // downscale_factor) #fixed 4k image width\n",
    "downscaled_height = (2160 // downscale_factor) #fixed 4k image height\n",
    "\n",
    "print(\"Downscaled size: {0}x{1}\".format(downscaled_width, downscaled_height))"
   ]
  },
  {
   "cell_type": "code",
   "execution_count": null,
   "id": "stopped-power",
   "metadata": {},
   "outputs": [],
   "source": [
    "# # FROM HERE, I HAVE COMMENTED EVERYTHING, DUE TO FOLDER'S PATH \n",
    "# # TODO: CHANGE FILE PATHS TO CORRECT DROPBOX PATHS\n",
    "# #TAA IMAGES\n",
    "# #its my own folders, due to no free space in disk drive (if needed, change to your own path)\n",
    "# TAA_in_folder = Path(\"C:/Users/DAndrysiak/!REPOS/DATASETS/InfiltratorDemo_2/3840x2160_TAA/color\")\n",
    "# assert TAA_in_folder.exists()"
   ]
  },
  {
   "cell_type": "code",
   "execution_count": null,
   "id": "expected-bookmark",
   "metadata": {},
   "outputs": [],
   "source": [
    "# # Path.mkdir.(\"../test/downsample_decimation/InfiltratorDemo_2/3840x2160_TAA/out_color\")\n",
    "# TAA_out_folder = Path(\"../test/downsample_decimation/InfiltratorDemo_2/3840x2160_TAA/out_color\")\n",
    "# if not TAA_out_folder.exists():\n",
    "#     TAA_out_folder.mkdir(parents=True, exist_ok=False) #parents=True - for creating a InfiltratorDemo_2/3840x2160_TAA/out_color folders"
   ]
  },
  {
   "cell_type": "code",
   "execution_count": null,
   "id": "cutting-container",
   "metadata": {},
   "outputs": [],
   "source": [
    "# downscale_exr_folder_decimate(TAA_in_folder, TAA_out_folder, downscaled_width, downscaled_height)"
   ]
  },
  {
   "cell_type": "code",
   "execution_count": null,
   "id": "announced-dispute",
   "metadata": {},
   "outputs": [],
   "source": [
    "#Diff image case"
   ]
  },
  {
   "cell_type": "code",
   "execution_count": null,
   "id": "auburn-criticism",
   "metadata": {},
   "outputs": [],
   "source": [
    "# TAA_in_exr_paths = list(TAA_in_folder.glob(\"*.exr\"))\n",
    "# #taa_in_exr_paths #here it displays a whole folder, folder should contains a images from 00 frame to 29 and 88 frame"
   ]
  },
  {
   "cell_type": "code",
   "execution_count": null,
   "id": "simple-charlotte",
   "metadata": {},
   "outputs": [],
   "source": [
    "# hr_image_TAA = load_exr(TAA_in_exr_paths[10]) #taa_in_exr_paths[10] -> number of image inside the folder"
   ]
  },
  {
   "cell_type": "code",
   "execution_count": null,
   "id": "amazing-microwave",
   "metadata": {},
   "outputs": [],
   "source": [
    "# show_img(hr_image_TAA, figsize=(15,8), title='HR')"
   ]
  },
  {
   "cell_type": "code",
   "execution_count": null,
   "id": "german-triumph",
   "metadata": {},
   "outputs": [],
   "source": [
    "# TAA_out_exr_paths = list(TAA_out_folder.glob(\"*.exr\")) #list whole folder and get .exr paths\n",
    "# #taa_out_exr_paths"
   ]
  },
  {
   "cell_type": "code",
   "execution_count": null,
   "id": "north-capture",
   "metadata": {},
   "outputs": [],
   "source": [
    "# lr_image_TAA = load_exr(TAA_out_exr_paths[10]) #sample photo"
   ]
  },
  {
   "cell_type": "code",
   "execution_count": null,
   "id": "center-airfare",
   "metadata": {},
   "outputs": [],
   "source": [
    "# show_img(lr_image_TAA, figsize=(15,8), title='LR image')"
   ]
  },
  {
   "cell_type": "code",
   "execution_count": null,
   "id": "medium-contributor",
   "metadata": {},
   "outputs": [],
   "source": [
    "# diff_0_88_TAA = load_exr(TAA_in_exr_paths[29]) - load_exr(TAA_in_exr_paths[0]) #diff between 1st and 88th frame"
   ]
  },
  {
   "cell_type": "code",
   "execution_count": null,
   "id": "alive-thumbnail",
   "metadata": {},
   "outputs": [],
   "source": [
    "# show_img(diff_0_88_TAA, figsize=(15,8), title='Diff between frame 1st to 29th and 88')"
   ]
  },
  {
   "cell_type": "code",
   "execution_count": null,
   "id": "scheduled-missile",
   "metadata": {},
   "outputs": [],
   "source": [
    "########################################################################################################################\n",
    "########################################################################################################################\n",
    "########################################################################################################################\n",
    "########################################################################################################################"
   ]
  },
  {
   "cell_type": "code",
   "execution_count": null,
   "id": "subsequent-wagon",
   "metadata": {},
   "outputs": [],
   "source": [
    "# #no_AA IMAGES\n",
    "# #its my own folders, due to no free space in disk drive (if needed, change to your own path)\n",
    "# no_AA_in_folder = Path(\"C:/Users/DAndrysiak/!REPOS/DATASETS/InfiltratorDemo_2/3840x2160_no_AA/color\")\n",
    "# assert no_AA_in_folder.exists()"
   ]
  },
  {
   "cell_type": "code",
   "execution_count": null,
   "id": "received-culture",
   "metadata": {},
   "outputs": [],
   "source": [
    "# no_AA_out_folder = Path(\"../test/downsample_decimation/InfiltratorDemo_2/3840x2160_no_AA/out_color\")\n",
    "# if not no_AA_out_folder.exists():\n",
    "#     no_AA_out_folder.mkdir(parents=True,exist_ok=True) #parents=True - for creating a InfiltratorDemo_2/3840x2160_TAA/out_color folders"
   ]
  },
  {
   "cell_type": "code",
   "execution_count": null,
   "id": "atlantic-wichita",
   "metadata": {},
   "outputs": [],
   "source": [
    "# downscale_exr_folder_decimate(no_AA_in_folder, no_AA_out_folder, downscaled_width, downscaled_height, jitter=True) "
   ]
  },
  {
   "cell_type": "code",
   "execution_count": null,
   "id": "pretty-treatment",
   "metadata": {},
   "outputs": [],
   "source": [
    "#Diff image case"
   ]
  },
  {
   "cell_type": "code",
   "execution_count": null,
   "id": "qualified-matter",
   "metadata": {},
   "outputs": [],
   "source": [
    "# no_AA_in_exr_paths = list(no_AA_in_folder.glob(\"*.exr\"))"
   ]
  },
  {
   "cell_type": "code",
   "execution_count": null,
   "id": "renewable-utility",
   "metadata": {},
   "outputs": [],
   "source": [
    "# hr_image_no_AA = load_exr(no_AA_in_exr_paths[10]) #no_aa_in_exr_paths[10] -> number of image inside the folder"
   ]
  },
  {
   "cell_type": "code",
   "execution_count": null,
   "id": "reserved-carnival",
   "metadata": {},
   "outputs": [],
   "source": [
    "# show_img(hr_image_no_AA, figsize=(15,8), title='HR')"
   ]
  },
  {
   "cell_type": "code",
   "execution_count": null,
   "id": "suburban-extension",
   "metadata": {},
   "outputs": [],
   "source": [
    "# no_AA_out_exr_paths = list(no_AA_out_folder.glob(\"*.exr\")) #list whole folder and get .exr paths"
   ]
  },
  {
   "cell_type": "code",
   "execution_count": null,
   "id": "unknown-warehouse",
   "metadata": {},
   "outputs": [],
   "source": [
    "# lr_image_no_AA = load_exr(no_AA_in_exr_paths[10]) #sample photo"
   ]
  },
  {
   "cell_type": "code",
   "execution_count": null,
   "id": "treated-helena",
   "metadata": {},
   "outputs": [],
   "source": [
    "# show_img(lr_image_no_AA, figsize=(15,8), title='LR image')"
   ]
  },
  {
   "cell_type": "code",
   "execution_count": null,
   "id": "infinite-strain",
   "metadata": {},
   "outputs": [],
   "source": [
    "# diff_0_88_no_AA = load_exr(no_AA_in_exr_paths[29]) - load_exr(no_AA_in_exr_paths[0]) #diff between 1st and 88th frame"
   ]
  },
  {
   "cell_type": "code",
   "execution_count": null,
   "id": "peaceful-newport",
   "metadata": {},
   "outputs": [],
   "source": [
    "# show_img(diff_0_88_no_AA, figsize=(15,8), title='Diff between frame 1st to 29th and 88')"
   ]
  },
  {
   "cell_type": "code",
   "execution_count": null,
   "id": "hollywood-briefing",
   "metadata": {},
   "outputs": [],
   "source": [
    "# Image Decimation test for 2021-04-09_Infiltrator_preview "
   ]
  },
  {
   "cell_type": "code",
   "execution_count": null,
   "id": "grave-conference",
   "metadata": {},
   "outputs": [],
   "source": [
    "# # TAA\n",
    "# #its my own folders, due to no free space in disk drive (if needed, change to your own path)\n",
    "# issue_TAA_in_folder = Path(\"C:/Users/DAndrysiak/!REPOS/DATASETS/Infiltrator_sample_frames/3840x2160_TAA/color\")\n",
    "# assert issue_TAA_in_folder.exists()"
   ]
  },
  {
   "cell_type": "code",
   "execution_count": null,
   "id": "curious-portsmouth",
   "metadata": {},
   "outputs": [],
   "source": [
    "# issue_TAA_out_folder = Path(\"../test/downsample_decimation/Infiltrator_sample_frames/3840x2160_TAA/out_color\")\n",
    "# if not issue_TAA_out_folder.exists():\n",
    "#     issue_TAA_out_folder.mkdir(parents=True,exist_ok=True) #parents=True - for creating a Infiltrator_sample_frames/3840x2160_TAA/out_color"
   ]
  },
  {
   "cell_type": "code",
   "execution_count": null,
   "id": "sophisticated-routine",
   "metadata": {},
   "outputs": [],
   "source": [
    "# downscale_exr_folder_decimate(issue_TAA_in_folder, issue_TAA_out_folder, downscaled_width, downscaled_height) "
   ]
  },
  {
   "cell_type": "code",
   "execution_count": null,
   "id": "collective-millennium",
   "metadata": {},
   "outputs": [],
   "source": [
    "# # no_AA color\n",
    "# #its my own folders, due to no free space in disk drive (if needed, change to your own path)\n",
    "# issue_no_AA_color_in_folder = Path(\"C:/Users/DAndrysiak/!REPOS/DATASETS/Infiltrator_sample_frames/3840x2160_no_AA/color\")\n",
    "# assert issue_no_AA_color_in_folder.exists()"
   ]
  },
  {
   "cell_type": "code",
   "execution_count": null,
   "id": "surprised-sheriff",
   "metadata": {},
   "outputs": [],
   "source": [
    "# issue_no_AA_color_out_folder = Path(\"../test/downsample_decimation/Infiltrator_sample_frames/3840x2160_no_AA/out_color\")\n",
    "# if not issue_no_AA_color_out_folder.exists():\n",
    "#     issue_no_AA_color_out_folder.mkdir(parents=True,exist_ok=True) #parents=True - for creating a Infiltrator_sample_frames/3840x2160_no_AA/out_color folders"
   ]
  },
  {
   "cell_type": "code",
   "execution_count": null,
   "id": "accredited-spirit",
   "metadata": {},
   "outputs": [],
   "source": [
    "# downscale_exr_folder_decimate(issue_no_AA_color_in_folder, issue_no_AA_color_out_folder, downscaled_width, downscaled_height, jitter=True) "
   ]
  },
  {
   "cell_type": "code",
   "execution_count": null,
   "id": "becoming-communist",
   "metadata": {},
   "outputs": [],
   "source": [
    "# # no_AA depth\n",
    "# #its my own folders, due to no free space in disk drive (if needed, change to your own path)\n",
    "# issue_no_AA_depth_in_folder = Path(\"C:/Users/DAndrysiak/!REPOS/DATASETS/Infiltrator_sample_frames/3840x2160_no_AA/depth\")\n",
    "# assert issue_no_AA_depth_in_folder.exists()"
   ]
  },
  {
   "cell_type": "code",
   "execution_count": null,
   "id": "final-producer",
   "metadata": {},
   "outputs": [],
   "source": [
    "# issue_no_AA_depth_out_folder = Path(\"../test/downsample_decimation/Infiltrator_sample_frames/3840x2160_no_AA/out_depth\")\n",
    "# if not issue_no_AA_depth_out_folder.exists():\n",
    "#     issue_no_AA_depth_out_folder.mkdir(parents=True,exist_ok=True) #parents=True - for creating a Infiltrator_sample_frames/3840x2160_no_AA/out_depth folders"
   ]
  },
  {
   "cell_type": "code",
   "execution_count": null,
   "id": "continued-raising",
   "metadata": {},
   "outputs": [],
   "source": [
    "# downscale_exr_folder_decimate(issue_no_AA_depth_in_folder, issue_no_AA_depth_out_folder, downscaled_width, downscaled_height, jitter=True) "
   ]
  },
  {
   "cell_type": "code",
   "execution_count": null,
   "id": "flush-trash",
   "metadata": {},
   "outputs": [],
   "source": [
    "# # no_AA mv\n",
    "# #its my own folders, due to no free space in disk drive (if needed, change to your own path)\n",
    "# issue_no_AA_mv_in_folder = Path(\"C:/Users/DAndrysiak/!REPOS/DATASETS/Infiltrator_sample_frames/3840x2160_no_AA/mv\")\n",
    "# assert issue_no_AA_mv_in_folder.exists()"
   ]
  },
  {
   "cell_type": "code",
   "execution_count": null,
   "id": "selective-greensboro",
   "metadata": {},
   "outputs": [],
   "source": [
    "# issue_no_AA_mv_out_folder = Path(\"../test/downsample_decimation/Infiltrator_sample_frames/3840x2160_no_AA/out_mv\")\n",
    "# if not issue_no_AA_mv_out_folder.exists():\n",
    "#     issue_no_AA_mv_out_folder.mkdir(parents=True,exist_ok=True) #parents=True - for creating a Infiltrator_sample_frames/3840x2160_no_AA/out_mv folders"
   ]
  },
  {
   "cell_type": "code",
   "execution_count": null,
   "id": "distinct-maldives",
   "metadata": {},
   "outputs": [],
   "source": [
    "# downscale_exr_folder_decimate(issue_no_AA_mv_in_folder, issue_no_AA_mv_out_folder, downscaled_width, downscaled_height, jitter=True) "
   ]
  },
  {
   "cell_type": "markdown",
   "id": "proof-colonial",
   "metadata": {},
   "source": [
    "# Export"
   ]
  },
  {
   "cell_type": "code",
   "execution_count": null,
   "id": "hindu-algebra",
   "metadata": {},
   "outputs": [],
   "source": [
    "from nbdev.export import *\n",
    "notebook2script()"
   ]
  }
 ],
 "metadata": {
  "kernelspec": {
   "display_name": "Python (upscalers_pytorch)",
   "language": "python",
   "name": "upscalers_pytorch"
  }
 },
 "nbformat": 4,
 "nbformat_minor": 5
}