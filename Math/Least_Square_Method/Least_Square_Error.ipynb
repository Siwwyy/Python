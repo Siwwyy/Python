{
  "nbformat": 4,
  "nbformat_minor": 0,
  "metadata": {
    "colab": {
      "name": "Least_Square_Error.ipynb",
      "provenance": [],
      "collapsed_sections": []
    },
    "kernelspec": {
      "name": "python3",
      "display_name": "Python 3"
    },
    "language_info": {
      "name": "python"
    }
  },
  "cells": [
    {
      "cell_type": "code",
      "metadata": {
        "id": "_jnxXFPrietU"
      },
      "source": [
        "import torch\n",
        "import torch.nn as nn\n",
        "try:\n",
        "    import torchviz\n",
        "except ImportError:\n",
        "    !pip install torchviz\n",
        "    import torchviz\n",
        "import matplotlib.pyplot as plt\n"
      ],
      "execution_count": 100,
      "outputs": []
    },
    {
      "cell_type": "code",
      "metadata": {
        "id": "GDf_uPcMifMg"
      },
      "source": [
        "curr_dtype = torch.float32\n",
        "# x = torch.tensor([10, 20, 30, 40, 50], dtype=curr_dtype)\n",
        "# y = torch.tensor([30, 30, 30, 30, 30], dtype=curr_dtype)\n",
        "\n",
        "x = torch.tensor([1, 2, 3, 4, 5, 6, 7], dtype=curr_dtype)\n",
        "y = torch.tensor([1.5, 3.8, 6.7, 9.0, 11.2, 13.6, 16], dtype=curr_dtype)\n",
        "\n",
        "# x = torch.tensor([1, 2, 3, 4, 5, 6, 7], dtype=curr_dtype)\n",
        "# y = torch.tensor([5, 2, 6, 3, 8, 4, 9], dtype=curr_dtype)"
      ],
      "execution_count": 101,
      "outputs": []
    },
    {
      "cell_type": "code",
      "metadata": {
        "id": "a7o9bXLmjRxt"
      },
      "source": [
        "def plot_function(x,y, label:str='f(x)', **kwargs):\n",
        "\n",
        "  fig = plt.figure(**kwargs)\n",
        "  plt.xticks(fontsize=20)\n",
        "  plt.yticks(fontsize=20)\n",
        "  plt.xlabel(\"X axis\", fontsize=20)\n",
        "  plt.ylabel(\"Y axis\", fontsize=20)    \n",
        "  plt.plot(x,y, 'o', label='f(x)')"
      ],
      "execution_count": 102,
      "outputs": []
    },
    {
      "cell_type": "code",
      "metadata": {
        "colab": {
          "base_uri": "https://localhost:8080/",
          "height": 894
        },
        "id": "M6dkEk1EjcAd",
        "outputId": "fc60b331-9b64-49d7-e6b0-4d289f40af37"
      },
      "source": [
        "plot_function(x,y, figsize=(15,15))"
      ],
      "execution_count": 103,
      "outputs": [
        {
          "output_type": "display_data",
          "data": {
            "image/png": "[encoded data removed]",
            "text/plain": [
              "<Figure size 1080x1080 with 1 Axes>"
            ]
          },
          "metadata": {
            "needs_background": "light"
          }
        }
      ]
    },
    {
      "cell_type": "code",
      "metadata": {
        "id": "MDg_C0N6mTKt"
      },
      "source": [
        "x_mean = torch.mean(x)\n",
        "y_mean = torch.mean(y)"
      ],
      "execution_count": 104,
      "outputs": []
    },
    {
      "cell_type": "code",
      "metadata": {
        "colab": {
          "base_uri": "https://localhost:8080/"
        },
        "id": "B6kxJ0R9mbOM",
        "outputId": "3fef0a6e-46e6-44a4-ee39-2c1931e7eb90"
      },
      "source": [
        "print(\"X mean {0} | Y mean {1}\".format(x_mean, y_mean))"
      ],
      "execution_count": 105,
      "outputs": [
        {
          "output_type": "stream",
          "name": "stdout",
          "text": [
            "X mean 4.0 | Y mean 8.828571319580078\n"
          ]
        }
      ]
    },
    {
      "cell_type": "code",
      "metadata": {
        "id": "5_2D4jvcmrEk"
      },
      "source": [
        "def variance(x:torch.tensor, x_mean:torch.tensor):\n",
        "  n = x.shape[0] - 1\n",
        "  sum = torch.sum(torch.pow(torch.sub(x, x_mean), 2))\n",
        "  return torch.div(sum, n)"
      ],
      "execution_count": 106,
      "outputs": []
    },
    {
      "cell_type": "code",
      "metadata": {
        "colab": {
          "base_uri": "https://localhost:8080/"
        },
        "id": "o5C7uKVXm9eJ",
        "outputId": "21734780-8c45-49af-c6bf-b4c4aea3a4a0"
      },
      "source": [
        "variance(x, x_mean)"
      ],
      "execution_count": 107,
      "outputs": [
        {
          "output_type": "execute_result",
          "data": {
            "text/plain": [
              "tensor(4.6667)"
            ]
          },
          "metadata": {},
          "execution_count": 107
        }
      ]
    },
    {
      "cell_type": "code",
      "metadata": {
        "colab": {
          "base_uri": "https://localhost:8080/"
        },
        "id": "lyz9R749nign",
        "outputId": "b130d28e-d1f6-4254-e032-f2693c13be65"
      },
      "source": [
        "torch.var(x)"
      ],
      "execution_count": 108,
      "outputs": [
        {
          "output_type": "execute_result",
          "data": {
            "text/plain": [
              "tensor(4.6667)"
            ]
          },
          "metadata": {},
          "execution_count": 108
        }
      ]
    },
    {
      "cell_type": "code",
      "metadata": {
        "id": "0JZneB87owrh"
      },
      "source": [
        "assert variance(x, x_mean) == torch.var(x), \"Should be equal to one, defined in pytorch\""
      ],
      "execution_count": 109,
      "outputs": []
    },
    {
      "cell_type": "code",
      "metadata": {
        "id": "u3LhSqHrqlgr"
      },
      "source": [
        "ab = torch.tensor([0,0], dtype=curr_dtype)"
      ],
      "execution_count": 110,
      "outputs": []
    },
    {
      "cell_type": "markdown",
      "metadata": {
        "id": "o19y7EgSs1es"
      },
      "source": [
        "Prepare matrices"
      ]
    },
    {
      "cell_type": "code",
      "metadata": {
        "colab": {
          "base_uri": "https://localhost:8080/"
        },
        "id": "qEXnb_Flrryc",
        "outputId": "531a6b64-dab7-49e9-e31c-fedb5db94f93"
      },
      "source": [
        "#inverse matrix\n",
        "x_matrix = torch.tensor([\n",
        "    [  torch.sum(torch.pow(x, 2)), torch.sum(x) ], # 0,0 | 0,1\n",
        "    [  torch.sum(x), torch.ones(1)  ]  # 1,0 | 1,1\n",
        "    ], dtype=curr_dtype)\n",
        "x_matrix"
      ],
      "execution_count": 111,
      "outputs": [
        {
          "output_type": "execute_result",
          "data": {
            "text/plain": [
              "tensor([[140.,  28.],\n",
              "        [ 28.,   1.]])"
            ]
          },
          "metadata": {},
          "execution_count": 111
        }
      ]
    },
    {
      "cell_type": "code",
      "metadata": {
        "id": "DUkf45m4DSv7"
      },
      "source": [
        "det_x_matrix = (torch.sum(torch.pow(x, 2)) * torch.ones(1)) - (torch.pow(torch.sum(x), 2))\n",
        "assert det_x_matrix != torch.zeros(1)"
      ],
      "execution_count": 112,
      "outputs": []
    },
    {
      "cell_type": "code",
      "metadata": {
        "id": "i03GRfwextme"
      },
      "source": [
        "inv_matrix = torch.inverse(x_matrix)"
      ],
      "execution_count": 113,
      "outputs": []
    },
    {
      "cell_type": "code",
      "metadata": {
        "colab": {
          "base_uri": "https://localhost:8080/"
        },
        "id": "8VX1yv2UsSzF",
        "outputId": "3b4dadfc-8721-4730-921d-e8a6bda4fee4"
      },
      "source": [
        "#y matrix\n",
        "y_matrix = torch.tensor([\n",
        "    [  torch.sum(torch.mul(x, y)) ], # 0,0\n",
        "    [  torch.sum(y) ]                # 1,0\n",
        "    ], dtype=curr_dtype)\n",
        "y_matrix"
      ],
      "execution_count": 114,
      "outputs": [
        {
          "output_type": "execute_result",
          "data": {
            "text/plain": [
              "tensor([[314.8000],\n",
              "        [ 61.8000]])"
            ]
          },
          "metadata": {},
          "execution_count": 114
        }
      ]
    },
    {
      "cell_type": "code",
      "metadata": {
        "id": "ttoAsAnqrlTt"
      },
      "source": [
        "#find a and b coefficients y = ax + b\n",
        "ab = torch.mm(inv_matrix, y_matrix)"
      ],
      "execution_count": 115,
      "outputs": []
    },
    {
      "cell_type": "code",
      "metadata": {
        "colab": {
          "base_uri": "https://localhost:8080/"
        },
        "id": "FTVGtxJlrpA8",
        "outputId": "7058fbc2-55fa-4de2-8118-109142274200"
      },
      "source": [
        "ab"
      ],
      "execution_count": 116,
      "outputs": [
        {
          "output_type": "execute_result",
          "data": {
            "text/plain": [
              "tensor([[2.1981],\n",
              "        [0.2522]])"
            ]
          },
          "metadata": {},
          "execution_count": 116
        }
      ]
    },
    {
      "cell_type": "code",
      "metadata": {
        "colab": {
          "base_uri": "https://localhost:8080/"
        },
        "id": "vxp8JMK7tSoz",
        "outputId": "ce03007d-508d-4d7d-cede-8d305c672c85"
      },
      "source": [
        "foo = ab[0] * x + ab[1]\n",
        "foo"
      ],
      "execution_count": 117,
      "outputs": [
        {
          "output_type": "execute_result",
          "data": {
            "text/plain": [
              "tensor([ 2.4503,  4.6484,  6.8466,  9.0447, 11.2429, 13.4410, 15.6391])"
            ]
          },
          "metadata": {},
          "execution_count": 117
        }
      ]
    },
    {
      "cell_type": "code",
      "metadata": {
        "colab": {
          "base_uri": "https://localhost:8080/",
          "height": 863
        },
        "id": "MQstgvfvvcBo",
        "outputId": "3d8ff2c9-a964-4b30-e65f-e27f44c20303"
      },
      "source": [
        "# Assign variables to the y axis part of the curve\n",
        "\n",
        "plt.figure(figsize=(15,15))\n",
        "# Plotting both the curves simultaneously\n",
        "plt.scatter(x, y, color='r')\n",
        "plt.plot(x, foo, color='g')\n",
        "  \n",
        "# To load the display window\n",
        "plt.show()"
      ],
      "execution_count": 118,
      "outputs": [
        {
          "output_type": "display_data",
          "data": {
            "image/png": "[encoded data removed]",
            "text/plain": [
              "<Figure size 1080x1080 with 1 Axes>"
            ]
          },
          "metadata": {
            "needs_background": "light"
          }
        }
      ]
    },
    {
      "cell_type": "code",
      "metadata": {
        "id": "ZSnCaGNkv31j"
      },
      "source": [
        ""
      ],
      "execution_count": 118,
      "outputs": []
    }
  ]
}